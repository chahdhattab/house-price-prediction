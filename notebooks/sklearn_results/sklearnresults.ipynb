{
 "cells": [
  {
   "cell_type": "markdown",
   "id": "46014621",
   "metadata": {},
   "source": [
    "Dropped features : 'Alley' 'MasVnrType' 'PoolQC' 'Fence' 'MiscFeature' '1stFlrSF' 'GarageArea'"
   ]
  },
  {
   "cell_type": "code",
   "execution_count": 1,
   "id": "e445606b-ba72-42e4-9162-4ca113db4175",
   "metadata": {},
   "outputs": [],
   "source": [
    "import pandas as pd\n",
    "\n",
    "Xtrain = pd.read_csv(\"x_train_transformed.csv\")\n",
    "Xtest = pd.read_csv(\"x_test_transformed.csv\")"
   ]
  },
  {
   "cell_type": "code",
   "execution_count": 2,
   "id": "6fce5a47-1b54-4737-af34-1f3158e1425c",
   "metadata": {},
   "outputs": [],
   "source": [
    "y_train = pd.read_csv(\"y_train.csv\")\n",
    "y_test = pd.read_csv(\"y_test.csv\")"
   ]
  },
  {
   "cell_type": "code",
   "execution_count": 3,
   "id": "48cb4512-83e6-4532-88f8-02c47ba9bc02",
   "metadata": {},
   "outputs": [],
   "source": [
    "from sklearn.metrics import r2_score, mean_absolute_error, mean_squared_error\n",
    "def evaluation(true, predicted):\n",
    "    mae = mean_absolute_error(true, predicted)\n",
    "    mse = mean_squared_error(true, predicted)\n",
    "    rmse = np.sqrt(mean_squared_error(true, predicted))\n",
    "    r2_square = r2_score(true, predicted)\n",
    "    return mae, rmse, r2_square"
   ]
  },
  {
   "cell_type": "code",
   "execution_count": 4,
   "id": "fae2573a-9f10-4cc9-ad2b-0e4cc6571039",
   "metadata": {},
   "outputs": [],
   "source": [
    "from sklearn.neighbors import KNeighborsRegressor\n",
    "from xgboost import XGBRegressor\n",
    "from sklearn.tree import DecisionTreeRegressor\n",
    "from sklearn.metrics import r2_score, mean_absolute_error, mean_squared_error\n",
    "from sklearn.ensemble import RandomForestRegressor\n",
    "from sklearn.ensemble import AdaBoostRegressor\n",
    "from sklearn.ensemble import GradientBoostingRegressor\n",
    "from sklearn.linear_model import LinearRegression, Ridge, Lasso\n",
    "\n",
    "\n",
    "from sklearn.linear_model import ElasticNetCV\n",
    "models = {\n",
    "    \"Linear Regression\": LinearRegression(),\n",
    "    \"Lasso\": Lasso(),\n",
    "    \"ElasticNetCV\": ElasticNetCV(),\n",
    "    \"Ridge\": Ridge(),\n",
    "    \"Graident BoostRegressor\": GradientBoostingRegressor(),\n",
    "    \"Xgboost Regressor\": XGBRegressor(),\n",
    "    \"K-Neighbors Regressor\": KNeighborsRegressor(),\n",
    "    \"Decision Tree\": DecisionTreeRegressor(),\n",
    "    \"Random Forest Regressor\": RandomForestRegressor(),\n",
    "    \"Random Forest Regressor\": RandomForestRegressor()\n",
    "}"
   ]
  },
  {
   "cell_type": "code",
   "execution_count": 7,
   "id": "c466c4d9-015e-4021-9a92-25a3e1831271",
   "metadata": {},
   "outputs": [
    {
     "name": "stdout",
     "output_type": "stream",
     "text": [
      "Linear Regression\n",
      "Training set\n",
      "RMSE: 30324.4174\n",
      " MAE: 18563.7676\n",
      " R2: 0.8458\n",
      "Test set\n",
      "RMSE: 34237.2757\n",
      " MAE:21437.8266\n",
      " R2: 0.8472\n",
      "\n",
      "\n",
      "Lasso\n",
      "Training set\n",
      "RMSE: 30324.4488\n",
      " MAE: 18563.6020\n",
      " R2: 0.8458\n",
      "Test set\n",
      "RMSE: 34237.2700\n",
      " MAE:21435.3698\n",
      " R2: 0.8472\n",
      "\n",
      "\n"
     ]
    },
    {
     "name": "stderr",
     "output_type": "stream",
     "text": [
      "/opt/anaconda3/lib/python3.12/site-packages/sklearn/linear_model/_coordinate_descent.py:1656: DataConversionWarning: A column-vector y was passed when a 1d array was expected. Please change the shape of y to (n_samples, ), for example using ravel().\n",
      "  y = column_or_1d(y, warn=True)\n"
     ]
    },
    {
     "name": "stdout",
     "output_type": "stream",
     "text": [
      "ElasticNetCV\n",
      "Training set\n",
      "RMSE: 74789.9077\n",
      " MAE: 54851.0335\n",
      " R2: 0.0622\n",
      "Test set\n",
      "RMSE: 86777.2368\n",
      " MAE:61389.0768\n",
      " R2: 0.0183\n",
      "\n",
      "\n",
      "Ridge\n",
      "Training set\n",
      "RMSE: 30334.4438\n",
      " MAE: 18580.0287\n",
      " R2: 0.8457\n",
      "Test set\n",
      "RMSE: 34247.1866\n",
      " MAE:21417.5419\n",
      " R2: 0.8471\n",
      "\n",
      "\n"
     ]
    },
    {
     "name": "stderr",
     "output_type": "stream",
     "text": [
      "/opt/anaconda3/lib/python3.12/site-packages/sklearn/ensemble/_gb.py:668: DataConversionWarning: A column-vector y was passed when a 1d array was expected. Please change the shape of y to (n_samples, ), for example using ravel().\n",
      "  y = column_or_1d(y, warn=True)  # TODO: Is this still required?\n"
     ]
    },
    {
     "name": "stdout",
     "output_type": "stream",
     "text": [
      "Graident BoostRegressor\n",
      "Training set\n",
      "RMSE: 14031.5366\n",
      " MAE: 10150.5317\n",
      " R2: 0.9670\n",
      "Test set\n",
      "RMSE: 28302.5985\n",
      " MAE:17329.1662\n",
      " R2: 0.8956\n",
      "\n",
      "\n",
      "Xgboost Regressor\n",
      "Training set\n",
      "RMSE: 1206.6888\n",
      " MAE: 825.4627\n",
      " R2: 0.9998\n",
      "Test set\n",
      "RMSE: 27663.1472\n",
      " MAE:18050.9568\n",
      " R2: 0.9002\n",
      "\n",
      "\n",
      "K-Neighbors Regressor\n",
      "Training set\n",
      "RMSE: 44294.7463\n",
      " MAE: 27802.2457\n",
      " R2: 0.6711\n",
      "Test set\n",
      "RMSE: 56295.8072\n",
      " MAE:34633.5151\n",
      " R2: 0.5868\n",
      "\n",
      "\n",
      "Decision Tree\n",
      "Training set\n",
      "RMSE: 0.0000\n",
      " MAE: 0.0000\n",
      " R2: 1.0000\n",
      "Test set\n",
      "RMSE: 41912.0128\n",
      " MAE:26934.8767\n",
      " R2: 0.7710\n",
      "\n",
      "\n"
     ]
    },
    {
     "name": "stderr",
     "output_type": "stream",
     "text": [
      "/opt/anaconda3/lib/python3.12/site-packages/sklearn/base.py:1473: DataConversionWarning: A column-vector y was passed when a 1d array was expected. Please change the shape of y to (n_samples,), for example using ravel().\n",
      "  return fit_method(estimator, *args, **kwargs)\n"
     ]
    },
    {
     "name": "stdout",
     "output_type": "stream",
     "text": [
      "Random Forest Regressor\n",
      "Training set\n",
      "RMSE: 10940.1805\n",
      " MAE: 6532.6142\n",
      " R2: 0.9799\n",
      "Test set\n",
      "RMSE: 28019.7321\n",
      " MAE:17597.0022\n",
      " R2: 0.8976\n",
      "\n",
      "\n"
     ]
    }
   ],
   "source": [
    "import numpy as np\n",
    "for i in range(len(list(models))):\n",
    "    model = list(models.values())[i]\n",
    "    model.fit(Xtrain, y_train)  \n",
    "\n",
    "    \n",
    "    y_train_pred = model.predict(Xtrain)\n",
    "    y_test_pred = model.predict(Xtest)\n",
    "\n",
    "    model_train_mae, model_train_rmse, model_train_r2 = evaluation(y_train, y_train_pred)\n",
    "    model_test_mae, model_test_rmse, model_test_r2 = evaluation(y_test, y_test_pred)\n",
    "\n",
    "    print(list(models.keys())[i])\n",
    "\n",
    "    print(\"Training set\")\n",
    "    print(\"RMSE: {:.4f}\".format(model_train_rmse))\n",
    "    print(\" MAE: {:.4f}\".format(model_train_mae))\n",
    "    print(\" R2: {:.4f}\".format(model_train_r2))\n",
    "\n",
    "    print(\"Test set\")\n",
    "    print(\"RMSE: {:.4f}\".format(model_test_rmse))\n",
    "    print(\" MAE:{:.4f}\".format(model_test_mae))\n",
    "    print(\" R2: {:.4f}\".format(model_test_r2))\n",
    "    print(\"\\n\")\n"
   ]
  }
 ],
 "metadata": {
  "kernelspec": {
   "display_name": "Python 3 (ipykernel)",
   "language": "python",
   "name": "python3"
  },
  "language_info": {
   "codemirror_mode": {
    "name": "ipython",
    "version": 3
   },
   "file_extension": ".py",
   "mimetype": "text/x-python",
   "name": "python",
   "nbconvert_exporter": "python",
   "pygments_lexer": "ipython3",
   "version": "3.12.2"
  }
 },
 "nbformat": 4,
 "nbformat_minor": 5
}
